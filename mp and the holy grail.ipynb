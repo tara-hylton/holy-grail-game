{
 "cells": [
  {
   "cell_type": "markdown",
   "metadata": {},
   "source": []
  },
  {
   "cell_type": "markdown",
   "metadata": {},
   "source": [
    "Set up the scene"
   ]
  },
  {
   "cell_type": "code",
   "execution_count": 1,
   "metadata": {},
   "outputs": [
    {
     "name": "stdout",
     "output_type": "stream",
     "text": [
      "Welcome to the Monty Python Adventure!\n",
      "You are about to embark on a quest for the Holy Grail. Beware of dangerous encounters!\n"
     ]
    }
   ],
   "source": [
    "print(\"Welcome to the Monty Python Adventure!\")\n",
    "print(\"You are about to embark on a quest for the Holy Grail. Beware of dangerous encounters!\")"
   ]
  },
  {
   "cell_type": "markdown",
   "metadata": {},
   "source": [
    "Character Setup"
   ]
  },
  {
   "cell_type": "code",
   "execution_count": 2,
   "metadata": {},
   "outputs": [
    {
     "name": "stdout",
     "output_type": "stream",
     "text": [
      "Welcome, Sir Arthur of Pythonia!\n"
     ]
    }
   ],
   "source": [
    "player_name = input(\"What is your name, brave adventurer?\")\n",
    "print(f\"Welcome, Sir {player_name} of Pythonia!\")"
   ]
  },
  {
   "cell_type": "markdown",
   "metadata": {},
   "source": [
    "Choices"
   ]
  },
  {
   "cell_type": "code",
   "execution_count": 3,
   "metadata": {},
   "outputs": [
    {
     "name": "stdout",
     "output_type": "stream",
     "text": [
      "A knight steps in front of you and says, 'None shall pass!'\n",
      "The knight draws his sword. It's time for battle!\n",
      "Starting health: 100\n",
      "You dealt 5 damage points\n",
      "The knight dealt 8 damage points\n",
      "The knight's health is 95.\n",
      "Your health is 92.\n",
      "You dealt 10 damage points\n",
      "The knight dealt 8 damage points\n",
      "The knight's health is 85.\n",
      "Your health is 84.\n",
      "You dealt 8 damage points\n",
      "The knight dealt 3 damage points\n",
      "The knight's health is 77.\n",
      "Your health is 81.\n",
      "You dealt 2 damage points\n",
      "The knight dealt 12 damage points\n",
      "The knight's health is 75.\n",
      "Your health is 69.\n",
      "You dealt 15 damage points\n",
      "The knight dealt 4 damage points\n",
      "The knight's health is 60.\n",
      "Your health is 65.\n",
      "You dealt 9 damage points\n",
      "The knight dealt 8 damage points\n",
      "The knight's health is 51.\n",
      "Your health is 57.\n",
      "The knight blocked your attack!\n",
      "You blocked the knight's attack!\n",
      "The knight's health is 51.\n",
      "Your health is 57.\n",
      "Your attack is critical!\n",
      "You dealt 20 damage points\n",
      "The knight dealt 5 damage points\n",
      "The knight's health is 31.\n",
      "Your health is 52.\n",
      "You dealt 13 damage points\n",
      "The knight dealt 11 damage points\n",
      "The knight tries to throw his hands up in defeat, but he realizes he has no limbs - you're free to pass. 'It's just a flesh wound!!' he screams as he continues to try to fight you.\n"
     ]
    }
   ],
   "source": [
    "print(\"A knight steps in front of you and says, 'None shall pass!'\")\n",
    "choice = input(\"Do you (1) fight the knight, or (2) try to reason with him?\")\n",
    "\n",
    "import random\n",
    "\n",
    "\n",
    "surpriseAttackPenalty = random.randint(1,6)\n",
    "player_health = 100\n",
    "knight_health = 100\n",
    "\n",
    "def player_attack(penalty):\n",
    "    number = random.randint(0,5)\n",
    "    match number: \n",
    "        case 0:\n",
    "            print(\"The knight blocked your attack!\")\n",
    "            return(0)\n",
    "        case 5:\n",
    "            print(\"Your attack is critical!\")\n",
    "            damage_to_knight = 20 \n",
    "            print(f\"You dealt {damage_to_knight} damage points\")\n",
    "            return(damage_to_knight)\n",
    "        case _:\n",
    "            damage_to_knight = random.randint(7,20) - penalty\n",
    "            print(f\"You dealt {damage_to_knight} damage points\")\n",
    "            return(damage_to_knight)\n",
    "            \n",
    "def knight_attack(penalty):\n",
    "    number = random.randint(0,5)\n",
    "    match number:\n",
    "        case 0:\n",
    "            print(\"You blocked the knight's attack!\")\n",
    "            return(0)\n",
    "        case 5:\n",
    "            print(\"The knight's attack was critical!\")\n",
    "            damage_to_player = 20 \n",
    "            print(f\"The knight dealt {damage_to_player} damage points\")\n",
    "            return(damage_to_player)\n",
    "        case _:\n",
    "            damage_to_player = random.randint(7,20) - surpriseAttackPenalty\n",
    "            print(f\"The knight dealt {damage_to_player} damage points\")\n",
    "            return(damage_to_player)\n",
    "\n",
    "if choice == \"1\":\n",
    "    print(\"The knight draws his sword. It's time for battle!\")\n",
    "    print(f\"Starting health: 100\")\n",
    "\n",
    "    \n",
    "    while knight_health and player_health > 30:\n",
    "        knight_health -= player_attack(surpriseAttackPenalty)\n",
    "        player_health -= knight_attack(surpriseAttackPenalty)\n",
    "        \n",
    "        if knight_health <= 30:\n",
    "            print(\"The knight tries to throw his hands up in defeat, but he realizes he has no limbs - you're free to pass. 'It's just a flesh wound!!' he screams as he continues to try to fight you.\")\n",
    "            break\n",
    "        if player_health <= 30:\n",
    "            print(\"This knight is relentless! It doesn't matter how maimed he is, all he wants to do is fight. RETREAT!\") \n",
    "            break\n",
    "        print(f\"The knight's health is {knight_health}.\")\n",
    "        print(f\"Your health is {player_health}.\")\n",
    "\n",
    "elif choice == \"2\":\n",
    "    print(\"the knight scoffs at your attempt to reason and attacks anyway.\")\n",
    "    print(f\"Starting health: 100\")\n",
    "\n",
    "    \n",
    "    while knight_health and player_health > 30:\n",
    "        knight_health -= player_attack(surpriseAttackPenalty)\n",
    "        player_health -= knight_attack(1)\n",
    "        \n",
    "        if knight_health <= 30:\n",
    "            print(\"The knight tries to throw his hands up in defeat, but he realizes he has no limbs - you're free to pass. 'It's just a flesh wound!!' he screams as he continues to try to fight you.\")\n",
    "            break\n",
    "        if player_health <= 30:\n",
    "            print(\"This knight is relentless! It doesn't matter how maimed he is, all he wants to do is fight. RETREAT!\") \n",
    "            break\n",
    "        print(f\"The knight's health is {knight_health}.\")\n",
    "        print(f\"Your health is {player_health}.\")\n",
    "else:\n",
    "    print(\"You hesitate...and the knight charges!\")\n",
    "    print(f\"Starting health: 100\")\n",
    "\n",
    "    while knight_health and player_health > 30:\n",
    "        knight_health -= player_attack(surpriseAttackPenalty)\n",
    "        player_health -= knight_attack(0)\n",
    "        \n",
    "        if knight_health <= 30:\n",
    "            print(\"The knight tries to throw his hands up in defeat, but he realizes he has no limbs - you're free to pass. 'It's just a flesh wound!!' he screams as he continues to try to fight you.\")\n",
    "            break\n",
    "        if player_health <= 30:\n",
    "            print(\"This knight is relentless! It doesn't matter how maimed he is, all he wants to do is fight. RETREAT!\") \n",
    "            break\n",
    "        print(f\"The knight's health is {knight_health}.\")\n",
    "        print(f\"Your health is {player_health}.\")\n",
    "\n"
   ]
  },
  {
   "cell_type": "markdown",
   "metadata": {},
   "source": [
    "Making the functions"
   ]
  },
  {
   "cell_type": "code",
   "execution_count": 4,
   "metadata": {},
   "outputs": [],
   "source": [
    "\n",
    "#import random\n",
    "#surpriseAttackPenalty = random.randint(1,4)\n",
    "#health = 100\n",
    "\n",
    "#def player_attack(penalty):\n",
    "    #number = random.randint(0,5)\n",
    "    #match number: \n",
    "        #case 0:\n",
    "            #print(\"The knight blocked your attack!\")\n",
    "            #return(0)\n",
    "        #case 5:\n",
    "            #print(\"Your attack is critical!\")\n",
    "            #damage_to_knight = 20\n",
    "            #print(f\"You dealt {damage_to_knight} damage points\")\n",
    "            #return(damage_to_knight)\n",
    "        #case _:\n",
    "            #damage_to_knight = random.randint(5,20) - penalty\n",
    "            #print(f\"You dealt {damage_to_knight} damage points\")\n",
    "            #return(damage_to_knight)\n",
    "    \n",
    "#player_attack(surpriseAttackPenalty)\n",
    "            \n",
    "#def knight_attack(penalty):\n",
    "    #number = random.randint(0,5)\n",
    "    #match number:\n",
    "        #case 0:\n",
    "            #print(\"You blocked the knight's attack!\")\n",
    "            #return(0)\n",
    "        #case 5:\n",
    "            #print(\"The knight's attack was critical!\")\n",
    "            #damage_to_player = 20\n",
    "            #print(f\"The knight dealt {damage_to_player} damage points\")\n",
    "            #return(damage_to_player)\n",
    "        #case _:\n",
    "            #damage_to_player = random.randint(5,20) - surpriseAttackPenalty\n",
    "            #print(f\"The knight dealt {damage_to_player} damage points\")\n",
    "            #return(damage_to_player)\n",
    "       \n",
    "#knight_attack(surpriseAttackPenalty)\n",
    "\n",
    "\n",
    "  "
   ]
  },
  {
   "cell_type": "markdown",
   "metadata": {},
   "source": [
    "More Loops"
   ]
  },
  {
   "cell_type": "code",
   "execution_count": 5,
   "metadata": {},
   "outputs": [
    {
     "name": "stdout",
     "output_type": "stream",
     "text": [
      "A troll appears and asks you three questions!\n"
     ]
    }
   ],
   "source": [
    "\n",
    "while True:\n",
    "    cross_the_bridge = input(\"Do you want to cross the Bridge of Death? (yes/no)\").lower()\n",
    "    if cross_the_bridge == \"yes\":\n",
    "        print(\"A troll appears and asks you three questions!\")\n",
    "        break\n",
    "    elif cross_the_bridge == \"no\":\n",
    "        print(\"You wisely turn back.\")\n",
    "        break\n",
    "    else:\n",
    "        print(\"Please answer 'yes' or 'no'.\")"
   ]
  },
  {
   "cell_type": "markdown",
   "metadata": {},
   "source": [
    "The End"
   ]
  },
  {
   "cell_type": "code",
   "execution_count": 6,
   "metadata": {},
   "outputs": [
    {
     "name": "stdout",
     "output_type": "stream",
     "text": [
      "Congratulations, you have completed your quest!\n",
      "Farewell, Sir Arthur!\n"
     ]
    }
   ],
   "source": [
    "print(\"Congratulations, you have completed your quest!\")\n",
    "print(f\"Farewell, Sir {player_name}!\")"
   ]
  }
 ],
 "metadata": {
  "kernelspec": {
   "display_name": "Python 3",
   "language": "python",
   "name": "python3"
  },
  "language_info": {
   "codemirror_mode": {
    "name": "ipython",
    "version": 3
   },
   "file_extension": ".py",
   "mimetype": "text/x-python",
   "name": "python",
   "nbconvert_exporter": "python",
   "pygments_lexer": "ipython3",
   "version": "3.13.2"
  }
 },
 "nbformat": 4,
 "nbformat_minor": 2
}
